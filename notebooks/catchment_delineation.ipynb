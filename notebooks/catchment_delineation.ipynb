{
 "cells": [
  {
   "cell_type": "code",
   "execution_count": null,
   "id": "ca31949f-d26a-4c36-9b9f-7a66e31f879a",
   "metadata": {},
   "outputs": [],
   "source": [
    "# # On the new Hub, uncomment and run these lines to install a compatible version of nivapy\n",
    "# # Then RESTART THE KERNEL and run the Python code\n",
    "# !pip uninstall nivapy3 -y\n",
    "# !pip install git+https://github.com/NIVANorge/nivapy3.git@new-hub"
   ]
  },
  {
   "cell_type": "code",
   "execution_count": null,
   "id": "e0bdb4e1-6d90-4c93-931f-5bdfbb6348ee",
   "metadata": {},
   "outputs": [],
   "source": [
    "import time\n",
    "\n",
    "import matplotlib.pyplot as plt\n",
    "import nivapy3 as nivapy\n",
    "import pandas as pd\n",
    "\n",
    "plt.style.use(\"ggplot\")"
   ]
  },
  {
   "cell_type": "markdown",
   "id": "a7ebfde2-74da-462f-8e39-08a790b5947b",
   "metadata": {},
   "source": [
    "# JupyterHub benchmarking\n",
    "\n",
    "## Test 7: Catchment delineation\n",
    "\n",
    "This notebook illustrates how to use NivaPy to delineate watershed boundaries for outflow locations in Norway."
   ]
  },
  {
   "cell_type": "markdown",
   "id": "7faac4f5-b98c-4324-972b-363151b9f881",
   "metadata": {},
   "source": [
    "## 1. Example site data"
   ]
  },
  {
   "cell_type": "code",
   "execution_count": null,
   "id": "5d87952c-2878-445e-a258-5a05bcf51733",
   "metadata": {},
   "outputs": [],
   "source": [
    "# Read example data from Finnmark\n",
    "csv_path = \"../data/quantom_catchment_outlets.csv\"\n",
    "df = pd.read_csv(csv_path, sep=\";\")\n",
    "df.head()"
   ]
  },
  {
   "cell_type": "markdown",
   "id": "9ebb0a13-9585-4639-bc8e-fe9a4af23f10",
   "metadata": {},
   "source": [
    "## 2. Derive watersheds using the 40 m DTM\n",
    "\n",
    "The first time you run this function in each JupyterHub session, NivaPy imports and compiles some Cython code via [PySheds](https://github.com/mdbartos/pysheds). **This can take a minute or so**. After that, the function should run more quickly for the rest of the session.\n",
    "\n",
    "**The first run below is just to compile the Cython code. The following cell is for the performance benchmarks**."
   ]
  },
  {
   "cell_type": "code",
   "execution_count": null,
   "id": "e3b27544-74e3-4627-ac1c-94da52d74741",
   "metadata": {},
   "outputs": [],
   "source": [
    "gdf40 = nivapy.spatial.derive_watershed_boundaries(\n",
    "    df,\n",
    "    id_col=\"site_id\",\n",
    "    xcol=\"outlet_lon\",\n",
    "    ycol=\"outlet_lat\",\n",
    "    crs=\"epsg:4326\",\n",
    "    min_size_km2=2,\n",
    "    dem_res_m=40,\n",
    "    buffer_km=None,\n",
    "    temp_fold=None,\n",
    "    reproject=False,\n",
    ")"
   ]
  },
  {
   "cell_type": "code",
   "execution_count": null,
   "id": "3b0d4108-de68-47f8-8b21-fbc1d6d8ced8",
   "metadata": {
    "tags": []
   },
   "outputs": [],
   "source": [
    "for i in range(10):\n",
    "    start = time.time()\n",
    "\n",
    "    gdf40 = nivapy.spatial.derive_watershed_boundaries(\n",
    "        df,\n",
    "        id_col=\"site_id\",\n",
    "        xcol=\"outlet_lon\",\n",
    "        ycol=\"outlet_lat\",\n",
    "        crs=\"epsg:4326\",\n",
    "        min_size_km2=2,\n",
    "        dem_res_m=40,\n",
    "        buffer_km=None,\n",
    "        temp_fold=None,\n",
    "        reproject=False,\n",
    "    )\n",
    "\n",
    "    end = time.time()\n",
    "    elapsed = end - start\n",
    "    print(f\"{elapsed:.1f}\")"
   ]
  }
 ],
 "metadata": {
  "kernelspec": {
   "display_name": "Python 3 (ipykernel)",
   "language": "python",
   "name": "python3"
  },
  "language_info": {
   "codemirror_mode": {
    "name": "ipython",
    "version": 3
   },
   "file_extension": ".py",
   "mimetype": "text/x-python",
   "name": "python",
   "nbconvert_exporter": "python",
   "pygments_lexer": "ipython3",
   "version": "3.10.10"
  }
 },
 "nbformat": 4,
 "nbformat_minor": 5
}
