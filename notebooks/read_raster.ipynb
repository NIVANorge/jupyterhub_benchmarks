{
 "cells": [
  {
   "cell_type": "code",
   "execution_count": null,
   "id": "3d146c85-65c8-45b1-9066-fdaca8867886",
   "metadata": {
    "tags": []
   },
   "outputs": [],
   "source": [
    "import time\n",
    "\n",
    "import rasterio"
   ]
  },
  {
   "cell_type": "markdown",
   "id": "e80366db-d298-4c43-a065-cf2b70c78fdd",
   "metadata": {},
   "source": [
    "# JupyterHub benchmarking\n",
    "\n",
    "## Test 2: Read data from `shared`\n",
    "\n",
    "Reads an LZW-compressed GeoTiff from the `shared` drive. The datasets are digital elevation models (DEMs) covering the whole of Norway. \n",
    "\n",
    " * **Test 2a:** The 40 m resolution dataset is about 1 GB compressed and 4.5 GB in memory. It can be read on a `standard` machine\n",
    " \n",
    " * **Test 2b:** The 10 m resolution dataset is about 14 GB compressed and 73 GB in memory. It requires at least the 240 GB machine"
   ]
  },
  {
   "cell_type": "markdown",
   "id": "6e37f768-c067-48d1-8759-f9ed158ade74",
   "metadata": {},
   "source": [
    "### Test 2a: 40 m DTM on `standard` machine"
   ]
  },
  {
   "cell_type": "code",
   "execution_count": null,
   "id": "a48e3f1d-8549-4069-9921-c5b8d4406650",
   "metadata": {
    "tags": []
   },
   "outputs": [],
   "source": [
    "tif_path = r\"/home/jovyan/shared/01_datasets/spatial/dtm_merged_utm33/dtm_40m/norway_kartverket_40m_dtm_utm_z33.tif\" # For old Hub\n",
    "# tif_path = r\"/home/jovyan/shared/common/01_datasets/spatial/dtm_merged_utm33/dtm_40m/norway_kartverket_40m_dtm_utm_z33.tif\" # For new Hub\n",
    "\n",
    "for i in range(10):\n",
    "    start = time.time()\n",
    "    with rasterio.open(tif_path) as src:\n",
    "        array = src.read(1)\n",
    "    end = time.time()\n",
    "    elapsed = end - start\n",
    "    print(f\"{elapsed:.1f}\")"
   ]
  },
  {
   "cell_type": "markdown",
   "id": "b8f37b4c-cb5e-4fa2-9425-dee95c48b1ad",
   "metadata": {},
   "source": [
    "### Test 2b: 10 m DTM on 240 GB machine"
   ]
  },
  {
   "cell_type": "code",
   "execution_count": null,
   "id": "ebf7c138-299d-456c-b17a-ed67fe694ea5",
   "metadata": {},
   "outputs": [],
   "source": [
    "# tif_path = r\"/home/jovyan/shared/01_datasets/spatial/dtm_merged_utm33/dtm_10m/norway_kartverket_10m_dtm_utm_z33.tif\"  # For old Hub\n",
    "# # tif_path = r\"/home/jovyan/shared/common/01_datasets/spatial/dtm_merged_utm33/dtm_10m/norway_kartverket_10m_dtm_utm_z33.tif\"  # For new Hub\n",
    "\n",
    "# for i in range(10):\n",
    "#     start = time.time()\n",
    "#     with rasterio.open(tif_path) as src:\n",
    "#         array = src.read(1)\n",
    "#     end = time.time()\n",
    "#     elapsed = end - start\n",
    "#     print(f\"{elapsed:.1f}\")"
   ]
  }
 ],
 "metadata": {
  "kernelspec": {
   "display_name": "Python 3 (ipykernel)",
   "language": "python",
   "name": "python3"
  },
  "language_info": {
   "codemirror_mode": {
    "name": "ipython",
    "version": 3
   },
   "file_extension": ".py",
   "mimetype": "text/x-python",
   "name": "python",
   "nbconvert_exporter": "python",
   "pygments_lexer": "ipython3",
   "version": "3.10.10"
  }
 },
 "nbformat": 4,
 "nbformat_minor": 5
}
