{
 "cells": [
  {
   "cell_type": "code",
   "execution_count": null,
   "id": "a7ce9518-d508-46be-a424-53d0ffb59b70",
   "metadata": {},
   "outputs": [],
   "source": [
    "# # On the new Hub, uncomment and run these lines to install a compatible version of nivapy\n",
    "# # Then RESTART THE KERNEL and run the Python code\n",
    "# !pip uninstall nivapy3 -y\n",
    "# !pip install git+https://github.com/NIVANorge/nivapy3.git@new-hub"
   ]
  },
  {
   "cell_type": "code",
   "execution_count": null,
   "id": "1c3fcfb3-3329-4fa9-8089-87d67ee49bbd",
   "metadata": {},
   "outputs": [],
   "source": [
    "import time\n",
    "\n",
    "import nivapy3 as nivapy"
   ]
  },
  {
   "cell_type": "code",
   "execution_count": null,
   "id": "caf45f2a-787e-4aab-b716-b3c1c3f3286d",
   "metadata": {},
   "outputs": [],
   "source": [
    "# Connect to db\n",
    "eng = nivapy.da.connect_postgis()"
   ]
  },
  {
   "cell_type": "markdown",
   "id": "fad2532e-0df3-471e-a447-1023f38f15b8",
   "metadata": {},
   "source": [
    "# JupyterHub benchmarking\n",
    "\n",
    "## Tests 3 and 4: PostGIS"
   ]
  },
  {
   "cell_type": "markdown",
   "id": "4f831dfe-4fcc-454f-915f-15c35cc54334",
   "metadata": {},
   "source": [
    "## Test 3: Read an entire table\n",
    "\n",
    "Tests I/O performance of the database connection."
   ]
  },
  {
   "cell_type": "code",
   "execution_count": null,
   "id": "939a00f2-2c52-41ab-8cff-a91cfc36b8aa",
   "metadata": {},
   "outputs": [],
   "source": [
    "for i in range(10):\n",
    "    start = time.time()\n",
    "\n",
    "    gdf = nivapy.da.read_postgis(\n",
    "        \"physical\",\n",
    "        \"norway_nibio_corine_2018_poly\",\n",
    "        eng,\n",
    "    )\n",
    "\n",
    "    end = time.time()\n",
    "    elapsed = end - start\n",
    "    print(f\"{elapsed:.1f}\")"
   ]
  },
  {
   "cell_type": "markdown",
   "id": "5fe9a094-933b-4bae-9e6c-8de0b4d21edc",
   "metadata": {},
   "source": [
    "## Test 4: Spatial processing\n",
    "\n",
    "Performs a spatial intersection within the database to test performance for geospatial analysis."
   ]
  },
  {
   "cell_type": "code",
   "execution_count": null,
   "id": "e00094e0-337c-42e8-9a64-dae6797d2c94",
   "metadata": {
    "tags": []
   },
   "outputs": [],
   "source": [
    "for i in range(10):\n",
    "    start = time.time()\n",
    "\n",
    "    fyl_gdf = nivapy.da.read_postgis(\n",
    "        \"cultural\", \"norway_kartverket_fylker_2019_poly\", eng\n",
    "    )\n",
    "    clip_gdf = fyl_gdf.query('fylkes_navn == \"Aust-Agder\"')\n",
    "    gdf = nivapy.da.read_postgis(\n",
    "        \"physical\",\n",
    "        \"norway_nibio_corine_2018_poly\",\n",
    "        eng,\n",
    "        clip=clip_gdf,\n",
    "    )\n",
    "\n",
    "    end = time.time()\n",
    "    elapsed = end - start\n",
    "    print(f\"{elapsed:.1f}\")"
   ]
  }
 ],
 "metadata": {
  "kernelspec": {
   "display_name": "Python 3 (ipykernel)",
   "language": "python",
   "name": "python3"
  },
  "language_info": {
   "codemirror_mode": {
    "name": "ipython",
    "version": 3
   },
   "file_extension": ".py",
   "mimetype": "text/x-python",
   "name": "python",
   "nbconvert_exporter": "python",
   "pygments_lexer": "ipython3",
   "version": "3.10.10"
  }
 },
 "nbformat": 4,
 "nbformat_minor": 5
}
